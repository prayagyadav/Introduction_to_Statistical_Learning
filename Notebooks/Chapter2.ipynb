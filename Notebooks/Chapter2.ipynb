{
 "cells": [
  {
   "cell_type": "markdown",
   "id": "3ffeaad6-28ca-4746-b6d6-1f3a9b862910",
   "metadata": {},
   "source": [
    "# Introduction to Regression Models"
   ]
  },
  {
   "cell_type": "code",
   "execution_count": null,
   "id": "139398dd-b9fe-4922-a899-ccacd2360861",
   "metadata": {},
   "outputs": [],
   "source": []
  }
 ],
 "metadata": {
  "kernelspec": {
   "display_name": "Python 3 (ipykernel)",
   "language": "python",
   "name": "python3"
  },
  "language_info": {
   "codemirror_mode": {
    "name": "ipython",
    "version": 3
   },
   "file_extension": ".py",
   "mimetype": "text/x-python",
   "name": "python",
   "nbconvert_exporter": "python",
   "pygments_lexer": "ipython3",
   "version": "3.10.12"
  }
 },
 "nbformat": 4,
 "nbformat_minor": 5
}
