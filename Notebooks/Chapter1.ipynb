{
 "cells": [
  {
   "cell_type": "markdown",
   "id": "8220b3f2-70f0-4a23-a907-9f8b74f59847",
   "metadata": {},
   "source": [
    "# Introduction to Statistical Learning "
   ]
  },
  {
   "cell_type": "markdown",
   "id": "946e6297-7c93-4d27-848b-76ac85cfb463",
   "metadata": {},
   "source": [
    "## Supervised and Unsupervised Learning"
   ]
  },
  {
   "cell_type": "markdown",
   "id": "9ccc507a-d835-49af-a4cf-f7d6a6885fb9",
   "metadata": {},
   "source": [
    "Y $\\rightarrow $ Outcome measurement / dependent variable / response / target \\\n",
    "X $\\rightarrow $ A vector of predictor measurements/ inputs/ regressors/ covariates/ features/ independent variables \\\n",
    "$(x_1 ,y_1) \\dots (x_N ,y_N) \\rightarrow $ training data/ examples/ instances/ observations "
   ]
  },
  {
   "cell_type": "markdown",
   "id": "0916db1b-0fee-4a01-a485-8f19a5f2a71b",
   "metadata": {},
   "source": [
    "__Regression Problem__ : Y is quantitative (eg. price or blood pressure) \\\n",
    "__Classification Problem__ : Y takes value in a finite set (eg. Survived/Died , digits 0-9, cancer class of tissue samples)"
   ]
  },
  {
   "cell_type": "markdown",
   "id": "618c5fa9-9097-428a-aa38-6bce9d1eba12",
   "metadata": {
    "jp-MarkdownHeadingCollapsed": true
   },
   "source": [
    "### Supervised Learning"
   ]
  },
  {
   "cell_type": "markdown",
   "id": "5f93bade-8c04-441e-ab53-e37c904693a8",
   "metadata": {},
   "source": [
    "__Objectives of Supervised Learning__ : On the basis of training data,\n",
    "- Accurately predict unseen test cases\n",
    "- Understand which inputs affect the outcome and how\n",
    "- Asses the quality of our predictions and inferences"
   ]
  },
  {
   "cell_type": "markdown",
   "id": "db38a002-d1e1-4a66-a60f-fe9a830713ad",
   "metadata": {
    "jp-MarkdownHeadingCollapsed": true
   },
   "source": [
    "### Unsupervised Learning"
   ]
  },
  {
   "cell_type": "markdown",
   "id": "fbd36f96-42eb-49ac-84a7-829623cdc923",
   "metadata": {},
   "source": [
    "No outcome variable, just a set of predictors (features)"
   ]
  },
  {
   "cell_type": "markdown",
   "id": "b7aa7e61-e253-46f4-8de1-35934e62ace5",
   "metadata": {},
   "source": [
    "__Objective__ : \n",
    "- To find groups of samples that behave similarly\n",
    "- Find features that behave similarly\n",
    "- Find linear combinations of features with the most variations"
   ]
  },
  {
   "cell_type": "markdown",
   "id": "a7a6e8b0-42cf-4d68-aed3-a5222f6a7737",
   "metadata": {},
   "source": [
    "Difficult to know how well you are doing"
   ]
  },
  {
   "cell_type": "code",
   "execution_count": null,
   "id": "26b2f7be-c9f8-407e-b5ad-9e52811b5836",
   "metadata": {},
   "outputs": [],
   "source": []
  }
 ],
 "metadata": {
  "kernelspec": {
   "display_name": "Python 3 (ipykernel)",
   "language": "python",
   "name": "python3"
  },
  "language_info": {
   "codemirror_mode": {
    "name": "ipython",
    "version": 3
   },
   "file_extension": ".py",
   "mimetype": "text/x-python",
   "name": "python",
   "nbconvert_exporter": "python",
   "pygments_lexer": "ipython3",
   "version": "3.10.12"
  }
 },
 "nbformat": 4,
 "nbformat_minor": 5
}
